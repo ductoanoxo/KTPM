{
 "cells": [
  {
   "cell_type": "code",
   "execution_count": 1,
   "id": "6335c1f9-efe4-4d4b-b1de-52c3c23c78ee",
   "metadata": {},
   "outputs": [
    {
     "name": "stderr",
     "output_type": "stream",
     "text": [
      "'g++' is not recognized as an internal or external command,\n",
      "operable program or batch file.\n",
      "'quaric.exe' is not recognized as an internal or external command,\n",
      "operable program or batch file.\n"
     ]
    }
   ],
   "source": [
    "# Biên dịch chương trình\n",
    "!g++ -o quaric quaric.cpp\n",
    "\n",
    "# Chạy chương trình (Windows thì dùng .exe)\n",
    "!quaric.exe\n"
   ]
  },
  {
   "cell_type": "code",
   "execution_count": null,
   "id": "554d2218-8e69-48b3-b495-b691ce0452fc",
   "metadata": {},
   "outputs": [],
   "source": []
  }
 ],
 "metadata": {
  "kernelspec": {
   "display_name": "Python 3 (ipykernel)",
   "language": "python",
   "name": "python3"
  },
  "language_info": {
   "codemirror_mode": {
    "name": "ipython",
    "version": 3
   },
   "file_extension": ".py",
   "mimetype": "text/x-python",
   "name": "python",
   "nbconvert_exporter": "python",
   "pygments_lexer": "ipython3",
   "version": "3.10.0"
  }
 },
 "nbformat": 4,
 "nbformat_minor": 5
}
